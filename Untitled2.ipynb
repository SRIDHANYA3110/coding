{
 "cells": [
  {
   "cell_type": "code",
   "execution_count": 4,
   "id": "60b4db83",
   "metadata": {},
   "outputs": [],
   "source": [
    "var1=range(1,11,2)"
   ]
  },
  {
   "cell_type": "code",
   "execution_count": 2,
   "id": "eb5b5a6b",
   "metadata": {},
   "outputs": [
    {
     "name": "stdout",
     "output_type": "stream",
     "text": [
      "range(1, 11)\n"
     ]
    }
   ],
   "source": [
    "print(var1)"
   ]
  },
  {
   "cell_type": "code",
   "execution_count": 5,
   "id": "6320d15f",
   "metadata": {},
   "outputs": [
    {
     "name": "stdout",
     "output_type": "stream",
     "text": [
      "[1, 3, 5, 7, 9]\n"
     ]
    }
   ],
   "source": [
    "print(list(var1))"
   ]
  },
  {
   "cell_type": "code",
   "execution_count": 6,
   "id": "e2d7d821",
   "metadata": {},
   "outputs": [],
   "source": [
    "var1=range(0,10,2)"
   ]
  },
  {
   "cell_type": "code",
   "execution_count": 7,
   "id": "9e950fc9",
   "metadata": {},
   "outputs": [
    {
     "name": "stdout",
     "output_type": "stream",
     "text": [
      "range(0, 10, 2)\n"
     ]
    }
   ],
   "source": [
    "print(var1)"
   ]
  },
  {
   "cell_type": "code",
   "execution_count": 8,
   "id": "4ed7076f",
   "metadata": {},
   "outputs": [
    {
     "name": "stdout",
     "output_type": "stream",
     "text": [
      "[0, 2, 4, 6, 8]\n"
     ]
    }
   ],
   "source": [
    "print(list(var1))"
   ]
  },
  {
   "cell_type": "code",
   "execution_count": 13,
   "id": "be467df5",
   "metadata": {},
   "outputs": [],
   "source": [
    "var2={\"name\":\"data analytics\",\"dept\":\"MCA\",\"studentcount\":47}"
   ]
  },
  {
   "cell_type": "markdown",
   "id": "6613466d",
   "metadata": {},
   "source": [
    "## "
   ]
  },
  {
   "cell_type": "code",
   "execution_count": 14,
   "id": "0262fb1d",
   "metadata": {},
   "outputs": [
    {
     "data": {
      "text/plain": [
       "'data analytics'"
      ]
     },
     "execution_count": 14,
     "metadata": {},
     "output_type": "execute_result"
    }
   ],
   "source": [
    "var2[\"name\"]"
   ]
  },
  {
   "cell_type": "code",
   "execution_count": 16,
   "id": "ab71a5f2",
   "metadata": {},
   "outputs": [
    {
     "data": {
      "text/plain": [
       "dict"
      ]
     },
     "execution_count": 16,
     "metadata": {},
     "output_type": "execute_result"
    }
   ],
   "source": [
    "type(var2)"
   ]
  },
  {
   "cell_type": "markdown",
   "id": "522b160d",
   "metadata": {},
   "source": []
  },
  {
   "cell_type": "code",
   "execution_count": 17,
   "id": "0d415e97",
   "metadata": {},
   "outputs": [],
   "source": [
    "var3={\"name\":\"sri\",\"food\":\"briyani\",\"bill\":500}"
   ]
  },
  {
   "cell_type": "code",
   "execution_count": 18,
   "id": "095ab648",
   "metadata": {},
   "outputs": [
    {
     "data": {
      "text/plain": [
       "dict"
      ]
     },
     "execution_count": 18,
     "metadata": {},
     "output_type": "execute_result"
    }
   ],
   "source": [
    "type(var3)"
   ]
  },
  {
   "cell_type": "code",
   "execution_count": 19,
   "id": "311d96e6",
   "metadata": {},
   "outputs": [
    {
     "data": {
      "text/plain": [
       "'briyani'"
      ]
     },
     "execution_count": 19,
     "metadata": {},
     "output_type": "execute_result"
    }
   ],
   "source": [
    "var3[\"food\"]"
   ]
  },
  {
   "cell_type": "code",
   "execution_count": 20,
   "id": "e6249293",
   "metadata": {},
   "outputs": [],
   "source": [
    "var4={1:\"sri\",2:\"dhanya\",3:\"shree\"}"
   ]
  },
  {
   "cell_type": "code",
   "execution_count": 22,
   "id": "d461d470",
   "metadata": {},
   "outputs": [
    {
     "data": {
      "text/plain": [
       "dict"
      ]
     },
     "execution_count": 22,
     "metadata": {},
     "output_type": "execute_result"
    }
   ],
   "source": [
    "type(var4)"
   ]
  },
  {
   "cell_type": "code",
   "execution_count": 23,
   "id": "dd7fd22c",
   "metadata": {},
   "outputs": [
    {
     "data": {
      "text/plain": [
       "'shree'"
      ]
     },
     "execution_count": 23,
     "metadata": {},
     "output_type": "execute_result"
    }
   ],
   "source": [
    "var4[3]"
   ]
  },
  {
   "cell_type": "code",
   "execution_count": 29,
   "id": "93e81c95",
   "metadata": {},
   "outputs": [],
   "source": [
    "var2={\"a\",\"b\",\"c\",10,20,90}"
   ]
  },
  {
   "cell_type": "code",
   "execution_count": 30,
   "id": "2e7a3273",
   "metadata": {},
   "outputs": [
    {
     "data": {
      "text/plain": [
       "set"
      ]
     },
     "execution_count": 30,
     "metadata": {},
     "output_type": "execute_result"
    }
   ],
   "source": [
    "type(var2)"
   ]
  },
  {
   "cell_type": "code",
   "execution_count": 36,
   "id": "d98a1a5a",
   "metadata": {},
   "outputs": [
    {
     "data": {
      "text/plain": [
       "{10, 20, 90, 'a', 'b', 'c', 'd'}"
      ]
     },
     "execution_count": 36,
     "metadata": {},
     "output_type": "execute_result"
    }
   ],
   "source": [
    "var2"
   ]
  },
  {
   "cell_type": "code",
   "execution_count": 37,
   "id": "a5cf0c49",
   "metadata": {},
   "outputs": [],
   "source": [
    "var2.add('d')"
   ]
  },
  {
   "cell_type": "code",
   "execution_count": 38,
   "id": "b455532b",
   "metadata": {},
   "outputs": [
    {
     "data": {
      "text/plain": [
       "{10, 20, 90, 'a', 'b', 'c', 'd'}"
      ]
     },
     "execution_count": 38,
     "metadata": {},
     "output_type": "execute_result"
    }
   ],
   "source": [
    "var2"
   ]
  },
  {
   "cell_type": "code",
   "execution_count": null,
   "id": "fcf7d3a9",
   "metadata": {},
   "outputs": [],
   "source": []
  }
 ],
 "metadata": {
  "kernelspec": {
   "display_name": "Python 3 (ipykernel)",
   "language": "python",
   "name": "python3"
  },
  "language_info": {
   "codemirror_mode": {
    "name": "ipython",
    "version": 3
   },
   "file_extension": ".py",
   "mimetype": "text/x-python",
   "name": "python",
   "nbconvert_exporter": "python",
   "pygments_lexer": "ipython3",
   "version": "3.9.7"
  }
 },
 "nbformat": 4,
 "nbformat_minor": 5
}

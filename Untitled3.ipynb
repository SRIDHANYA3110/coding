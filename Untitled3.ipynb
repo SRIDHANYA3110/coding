{
 "cells": [
  {
   "cell_type": "code",
   "execution_count": 1,
   "id": "254c0d90",
   "metadata": {},
   "outputs": [
    {
     "name": "stdout",
     "output_type": "stream",
     "text": [
      "enter time5\n",
      "time is upwake\n"
     ]
    }
   ],
   "source": [
    "timenow=input(\"enter time\")\n",
    "notif={1:\"wake\",2:\"break fast\",3:\"lunch\",4:\"dinner\"}\n",
    "if int(timenow)<6:\n",
    "    print(f\"time is up{notif[1]}\")\n",
    "elif int(timenow)==12:\n",
    "    print(notif[2])\n",
    "elif int(timenow)>12:\n",
    "    print(notif[3])\n",
    "elif int(timenow)==8:\n",
    "    print(notif[4])\n",
    "    \n",
    " \n",
    "    "
   ]
  },
  {
   "cell_type": "code",
   "execution_count": null,
   "id": "ede0c461",
   "metadata": {},
   "outputs": [],
   "source": [
    "\n"
   ]
  },
  {
   "cell_type": "code",
   "execution_count": 3,
   "id": "220702e4",
   "metadata": {},
   "outputs": [
    {
     "name": "stdout",
     "output_type": "stream",
     "text": [
      "your total fare for 1km is 2\n",
      "your total fare for 1km is 2\n",
      "your total fare for3km is 15\n",
      "your total fare for4km is 20\n",
      "your total fare for5km is 25\n",
      "your total fare for6km is 30\n",
      "your total fare for7km is 35\n",
      "your total fare for8km is 40\n",
      "your total fare for9km is 45\n",
      "your total fare for10km is 50\n",
      "your total fare for11km is 55\n",
      "your total fare for12km is 60\n",
      "your total fare for13km is 65\n",
      "your total fare for14km is 70\n",
      "your total fare for15km is 75\n",
      "your total fare for16km is 80\n",
      "your total fare for17km is 85\n",
      "your total fare for18km is 90\n",
      "your total fare for19km is 95\n",
      "your total fare for20km is 100\n",
      "your total fare for21km is 105\n",
      "your total fare for22km is 110\n",
      "your total fare for23km is 115\n",
      "your total fare for24km is 120\n",
      "your total fare for25km is 125\n"
     ]
    }
   ],
   "source": [
    "fare_per_km=2\n",
    "for dist in range(1,26):\n",
    "    if dist>2:\n",
    "        total_fare=dist*5\n",
    "        print(f\"your total fare for{dist}km is {total_fare}\")\n",
    "        \n",
    "    else:\n",
    "        print(f\"your total fare for 1km is 2\")\n",
    "        "
   ]
  },
  {
   "cell_type": "code",
   "execution_count": null,
   "id": "6a5dea49",
   "metadata": {},
   "outputs": [],
   "source": []
  }
 ],
 "metadata": {
  "kernelspec": {
   "display_name": "Python 3 (ipykernel)",
   "language": "python",
   "name": "python3"
  },
  "language_info": {
   "codemirror_mode": {
    "name": "ipython",
    "version": 3
   },
   "file_extension": ".py",
   "mimetype": "text/x-python",
   "name": "python",
   "nbconvert_exporter": "python",
   "pygments_lexer": "ipython3",
   "version": "3.9.7"
  }
 },
 "nbformat": 4,
 "nbformat_minor": 5
}

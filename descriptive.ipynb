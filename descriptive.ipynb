{
 "cells": [
  {
   "cell_type": "code",
   "execution_count": 5,
   "id": "572245f4",
   "metadata": {},
   "outputs": [],
   "source": [
    "import numpy as npy"
   ]
  },
  {
   "cell_type": "code",
   "execution_count": 6,
   "id": "0bc53e89",
   "metadata": {},
   "outputs": [],
   "source": [
    "import pandas as pds"
   ]
  },
  {
   "cell_type": "code",
   "execution_count": 7,
   "id": "8bcf367e",
   "metadata": {},
   "outputs": [],
   "source": [
    "import matplotlib.pyplot as plt"
   ]
  },
  {
   "cell_type": "code",
   "execution_count": 8,
   "id": "ca3e8815",
   "metadata": {},
   "outputs": [],
   "source": [
    "%matplotlib inline"
   ]
  },
  {
   "cell_type": "code",
   "execution_count": 14,
   "id": "eb8cbccb",
   "metadata": {},
   "outputs": [],
   "source": [
    "mtcars=pds.read_csv(\"C:/Users/ADMIN/Downloads/mtcars.csv\")"
   ]
  },
  {
   "cell_type": "code",
   "execution_count": 20,
   "id": "d3cb617d",
   "metadata": {},
   "outputs": [],
   "source": [
    "mtcars=mtcars.rename(columns={'Unnamed: 0': 'model'})"
   ]
  },
  {
   "cell_type": "code",
   "execution_count": 21,
   "id": "670e56c8",
   "metadata": {},
   "outputs": [],
   "source": [
    "mtcars.index=mtcars.model"
   ]
  },
  {
   "cell_type": "code",
   "execution_count": null,
   "id": "1b1e1dc4",
   "metadata": {},
   "outputs": [],
   "source": []
  }
 ],
 "metadata": {
  "kernelspec": {
   "display_name": "Python 3 (ipykernel)",
   "language": "python",
   "name": "python3"
  },
  "language_info": {
   "codemirror_mode": {
    "name": "ipython",
    "version": 3
   },
   "file_extension": ".py",
   "mimetype": "text/x-python",
   "name": "python",
   "nbconvert_exporter": "python",
   "pygments_lexer": "ipython3",
   "version": "3.9.7"
  }
 },
 "nbformat": 4,
 "nbformat_minor": 5
}
